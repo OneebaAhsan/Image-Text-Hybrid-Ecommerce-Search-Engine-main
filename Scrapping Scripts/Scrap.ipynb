{
 "cells": [
  {
   "cell_type": "code",
   "execution_count": 1,
   "id": "02a09ed7",
   "metadata": {},
   "outputs": [],
   "source": [
    "import selenium\n",
    "import bs4\n",
    "import pandas as pd\n",
    "import time\n",
    "\n",
    "from selenium.webdriver.support.ui import WebDriverWait\n",
    "from selenium.webdriver.support import expected_conditions as EC\n",
    "from selenium.common.exceptions import NoSuchElementException\n",
    "from selenium.common.exceptions import StaleElementReferenceException\n",
    "from selenium.webdriver.common.by import By\n",
    "from selenium.webdriver.common.keys import Keys\n",
    "from selenium.common.exceptions import TimeoutException\n",
    "from selenium import webdriver"
   ]
  },
  {
   "cell_type": "code",
   "execution_count": 5,
   "id": "a2fb894e",
   "metadata": {},
   "outputs": [
    {
     "name": "stderr",
     "output_type": "stream",
     "text": [
      "<ipython-input-5-cc813514b72e>:1: DeprecationWarning: executable_path has been deprecated, please pass in a Service object\n",
      "  driver = webdriver.Chrome(r\"E:\\Scrap\\chromedriver\")\n",
      "<ipython-input-5-cc813514b72e>:18: DeprecationWarning: find_elements_by_* commands are deprecated. Please use find_elements() instead\n",
      "  for idx, links in enumerate(driver.find_elements_by_xpath('//div[@class=\"cRjKsc\"]/a')):\n",
      "<ipython-input-5-cc813514b72e>:23: DeprecationWarning: find_elements_by_* commands are deprecated. Please use find_elements() instead\n",
      "  for idx, links in enumerate(driver.find_elements_by_class_name('c2prKC')):\n",
      "<ipython-input-5-cc813514b72e>:26: DeprecationWarning: find_elements_by_* commands are deprecated. Please use find_elements() instead\n",
      "  for idx, links in enumerate(driver.find_elements_by_xpath('//*[@id=\"J_breadcrumb\"]/li[3]/span/span')):\n",
      "<ipython-input-5-cc813514b72e>:29: DeprecationWarning: find_elements_by_* commands are deprecated. Please use find_elements() instead\n",
      "  for idx, links in enumerate(driver.find_elements_by_xpath('//div[@class=\"c3gUW0\"]/span')):\n",
      "<ipython-input-5-cc813514b72e>:32: DeprecationWarning: find_elements_by_* commands are deprecated. Please use find_elements() instead\n",
      "  for idx, links in enumerate(driver.find_elements_by_xpath('//div[@class=\"c15YQ9\"]')):\n"
     ]
    },
    {
     "name": "stdout",
     "output_type": "stream",
     "text": [
      "40\n",
      "40\n",
      "40\n",
      "40\n",
      "40\n",
      "40\n",
      "40\n",
      "40\n"
     ]
    }
   ],
   "source": [
    "\n",
    "\n",
    "driver = webdriver.Chrome(r\"E:\\Scrap\\chromedriver\")\n",
    "driver.get(\"https://www.daraz.pk/smartphones/?spm=a2a0e.home.cate_1.1.37c04937G4As9w\")\n",
    "\n",
    "delay = 5 # seconds\n",
    "content = None\n",
    "\n",
    "\n",
    "title = list()\n",
    "image =  list()\n",
    "link = list()\n",
    "price = list()\n",
    "rating = list()\n",
    "no_of_review = list()\n",
    "prod_uniqid = list()\n",
    "prod_category = list() #Mobiles\n",
    "driver.implicitly_wait(20)\n",
    "\n",
    "for idx, links in enumerate(driver.find_elements_by_xpath('//div[@class=\"cRjKsc\"]/a')):\n",
    "    image.append(links.find_element_by_class_name(\"c1ZEkM \").get_attribute(\"src\"))\n",
    "    link.append(links.get_attribute(\"href\"))\n",
    "    title.append(links.find_element_by_class_name(\"c1ZEkM \").get_attribute(\"alt\"))\n",
    "\n",
    "for idx, links in enumerate(driver.find_elements_by_class_name('c2prKC')):\n",
    "    prod_uniqid.append(links.get_attribute(\"data-item-id\"))\n",
    "                       \n",
    "for idx, links in enumerate(driver.find_elements_by_xpath('//*[@id=\"J_breadcrumb\"]/li[3]/span/span')):\n",
    "     prod_category.append(links.text)\n",
    "                \n",
    "for idx, links in enumerate(driver.find_elements_by_xpath('//div[@class=\"c3gUW0\"]/span')):\n",
    "    price.append(links.text)\n",
    "                       \n",
    "for idx, links in enumerate(driver.find_elements_by_xpath('//div[@class=\"c15YQ9\"]')):\n",
    "    try:\n",
    "        no_of_review.append(links.find_element_by_class_name(\"c3XbGJ\").text)\n",
    "    except NoSuchElementException:\n",
    "        no_of_review.append(None)\n",
    "page_soup = bs4.BeautifulSoup(driver.page_source,\"lxml\")\n",
    "\n",
    "scirpt_data = str(page_soup).split('window.pageData')[1].split(r\"}}}\")[0]\n",
    "for review in scirpt_data.split('ratingScore\":'):\n",
    "    rating.append(review.split(\",\")[0].replace('\"',\"\"))\n",
    "rating.pop(0)\n",
    "\n",
    "d = len(link) - len(rating)\n",
    "for i in range(d):\n",
    "    image.pop()\n",
    "    link.pop()\n",
    "    title.pop()\n",
    "    price.pop()\n",
    "    no_of_review.pop()\n",
    "    \n",
    "    \n",
    "print(len(image))\n",
    "var1=(len(image))\n",
    "brand = prod_category[0]\n",
    "for i in range(var1-1):\n",
    "    prod_category.append(brand)\n",
    "    \n",
    "print(len(link))\n",
    "print(len(title))\n",
    "print(len(price))\n",
    "print(len(no_of_review))\n",
    "print(len(rating))\n",
    "print(len(prod_uniqid))\n",
    "print(len(prod_category))"
   ]
  },
  {
   "cell_type": "code",
   "execution_count": 6,
   "id": "257e3806",
   "metadata": {},
   "outputs": [],
   "source": [
    "df = pd.DataFrame({'Links':link, 'Images':image, \"Title\":title, \"SKU_ID\":prod_uniqid, \"Product_Category\":prod_category, \"Price\":price, \"No of Review\":no_of_review, \"Rating\":rating})\n",
    "df.to_csv(brand + '.csv', index=False, mode='a')#,header=False"
   ]
  },
  {
   "cell_type": "code",
   "execution_count": 7,
   "id": "434944ba",
   "metadata": {},
   "outputs": [],
   "source": [
    "from urllib.parse import urlparse, parse_qs\n",
    "import pandas as pd\n",
    "import os\n",
    "import requests as requests"
   ]
  },
  {
   "cell_type": "code",
   "execution_count": 8,
   "id": "4e5951d4",
   "metadata": {},
   "outputs": [
    {
     "data": {
      "text/plain": [
       "0    None\n",
       "1    None\n",
       "2    None\n",
       "dtype: object"
      ]
     },
     "execution_count": 8,
     "metadata": {},
     "output_type": "execute_result"
    }
   ],
   "source": [
    "file_name = 'Mobiles.csv'\n",
    "folder_name = file_name[0: file_name.index('.')]\n",
    "\n",
    "\n",
    "def make_folder(name):\n",
    "    if not os.path.isdir(name):\n",
    "        os.mkdir(name)\n",
    "\n",
    "\n",
    "def get_df_from_csv(csv_name):\n",
    "    dfr = pd.read_csv(csv_name)\n",
    "    return dfr\n",
    "\n",
    "\n",
    "def get_extension(name: str)-> str:\n",
    "    idx = name.rfind('.')\n",
    "    return name[idx:]\n",
    "\n",
    "\n",
    "def download_image(row):\n",
    "    url = row[0]\n",
    "    extension = get_extension(urlparse(url).path)\n",
    "    img_name = str(row[1]) + extension\n",
    "\n",
    "    with open(folder_name + '/' + img_name, 'wb') as f:\n",
    "        response = requests.get(url)\n",
    "        f.write(response.content)\n",
    "\n",
    "\n",
    "df = get_df_from_csv(file_name)\n",
    "df = df.drop(columns=['Links', 'Title', 'Price', 'Product_Category','No of Review', 'Rating',] )\n",
    "not_nan_images = df[~df['Images'].isna()]\n",
    "make_folder(folder_name)\n",
    "not_nan_images.apply(download_image, axis=1)\n"
   ]
  },
  {
   "cell_type": "code",
   "execution_count": null,
   "id": "929e9707",
   "metadata": {},
   "outputs": [],
   "source": []
  }
 ],
 "metadata": {
  "kernelspec": {
   "display_name": "Python 3",
   "language": "python",
   "name": "python3"
  },
  "language_info": {
   "codemirror_mode": {
    "name": "ipython",
    "version": 3
   },
   "file_extension": ".py",
   "mimetype": "text/x-python",
   "name": "python",
   "nbconvert_exporter": "python",
   "pygments_lexer": "ipython3",
   "version": "3.8.8"
  }
 },
 "nbformat": 4,
 "nbformat_minor": 5
}
